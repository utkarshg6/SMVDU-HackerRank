{
 "cells": [
  {
   "cell_type": "markdown",
   "metadata": {},
   "source": [
    "# Apple and Orange"
   ]
  },
  {
   "cell_type": "markdown",
   "metadata": {},
   "source": [
    "Sam's house has an apple tree and an orange tree that yield an abundance of fruit. Sam’s two children, Larry and Rob, decide to play a game in which they each climb a tree and throw fruit at their (Sam’s) house. Each fruit that lands on the house scores one point for the one who threw it. Larry climbs the tree on the left (the apple), and Rob climbs the one on the right (the orange).\n",
    "\n",
    "We’ll use the following diagram to describe the challenge:"
   ]
  },
  {
   "cell_type": "markdown",
   "metadata": {},
   "source": [
    "<img src=\"https://s3.amazonaws.com/hr-challenge-images/25220/1474218925-f2a791d52c-Appleandorange2.png\"  >"
   ]
  },
  {
   "cell_type": "markdown",
   "metadata": {},
   "source": [
    "For simplicity, we’ll assume all of the landmarks are on a number line. Larry climbs the apple tree at point $a$, and Rob climbs the orange tree at point $b$. Sam’s house stands between points $s$ and $t$. Values increase from left to right.\n",
    "\n",
    "You will be given a list of distances the fruits are thrown. Negative distances indicate travel left and positive distances, travel right. Your task will be to calculate the scores for Larry and Rob and report them each on a separate line."
   ]
  },
  {
   "cell_type": "markdown",
   "metadata": {},
   "source": [
    "__Input Format__"
   ]
  },
  {
   "cell_type": "markdown",
   "metadata": {},
   "source": [
    "-  $2$ space-separated integers\n",
    "\n",
    "    -  $s$ and $t$, left and right sides of Sam’s house\n",
    "    -  $1 \\leq s,t \\leq 10^5$\n",
    "\n",
    "-  $2$ space-separated integers\n",
    "    -  $a$ and $b$, Larry’s and Rob’s positions in the trees\n",
    "    -  $1 \\leq a,b  \\leq 10^5$\n",
    "    \n",
    "-  $2$ space-separated integers\n",
    "    -  $m$ and $n$, number of apples and oranges thrown\n",
    "    -  $1 \\leq m,n \\leq 10^5$\n",
    "    \n",
    "-  $m$ space-separated integers\n",
    "    -  distances $m_{i}$ that each apple falls from $a$\n",
    "    -  $-10^5 \\leq m_{i} \\leq 10^5$ that each apple falls from $a$ \n",
    "    \n",
    "-  $n$ space-separated integers\n",
    "\n",
    "    -  distances $n_{i}$ that each orange falls from $b$\n",
    "    -  $-10^5 \\leq n_{i} \\leq 10^5$"
   ]
  },
  {
   "cell_type": "markdown",
   "metadata": {},
   "source": [
    "__Output Format__"
   ]
  },
  {
   "cell_type": "markdown",
   "metadata": {},
   "source": [
    "2 space-separated integers on a line: Larry’s score followed by Rob’s score."
   ]
  },
  {
   "cell_type": "markdown",
   "metadata": {},
   "source": [
    "__Sample Input 0__"
   ]
  },
  {
   "cell_type": "raw",
   "metadata": {},
   "source": [
    "7 11\n",
    "5 15\n",
    "3 2\n",
    "-2 2 1\n",
    "5 -6"
   ]
  },
  {
   "cell_type": "markdown",
   "metadata": {},
   "source": [
    "__Sample Output 0__"
   ]
  },
  {
   "cell_type": "raw",
   "metadata": {},
   "source": [
    "1 1"
   ]
  },
  {
   "cell_type": "markdown",
   "metadata": {},
   "source": [
    "__Explanation 0__"
   ]
  },
  {
   "cell_type": "markdown",
   "metadata": {},
   "source": [
    "The first apple falls at position $5 - 2 = 3$\n",
    "\n",
    "The second apple falls at position $5 + 2 = 7$\n",
    "\n",
    "The third apple falls at position $5 + 1 = 6$\n",
    "\n",
    "The first orange falls at position $15 + 5 = 20$\n",
    "\n",
    "The second orange falls at position $15 - 6 = 9$"
   ]
  },
  {
   "cell_type": "markdown",
   "metadata": {},
   "source": [
    "### _Press __Shift + Enter__ to run the code._"
   ]
  },
  {
   "cell_type": "code",
   "execution_count": 9,
   "metadata": {},
   "outputs": [
    {
     "name": "stdout",
     "output_type": "stream",
     "text": [
      "7 11\n",
      "5 15\n",
      "3 2\n",
      "-2 2 1\n",
      "5 -6\n",
      "1\n",
      "1\n"
     ]
    }
   ],
   "source": [
    "#!/bin/python3\n",
    "\n",
    "import os\n",
    "import sys\n",
    "\n",
    "\n",
    "def countApplesAndOranges(s, t, a, b, apples, oranges):\n",
    "    counta = countb = 0    # counta : Larry's Score ;  countb : Rob's Score\n",
    "        \n",
    "    for i in apple:    # i will be used to traverse in the list apple\n",
    "        da = a + i    # da is the distance of apple from the tree\n",
    "        if ( da >= s and da <= t ):    # if the distance is in the range increase the point\n",
    "            counta += 1\n",
    "\n",
    "    for j in orange:    # j will be used to traverse in the list orange\n",
    "        db = b + j    # da is the distance of orange from the tree\n",
    "        if ( db >= s and db <= t ):    # if the distance is in the range increase the point\n",
    "            countb += 1\n",
    "    print(counta)\n",
    "    print(countb)\n",
    "\n",
    "if __name__ == '__main__':\n",
    "    s,t = input().split()\n",
    "    s = int(s)\n",
    "    t = int(t)\n",
    "    a,b = input().split()\n",
    "    a = int(a)\n",
    "    b = int(b)\n",
    "    m,n = input().split()\n",
    "    m = int(m)\n",
    "    n = int(n)\n",
    "    apple = list(map(int, input().rstrip().split()))\n",
    "    orange = list(map(int, input().rstrip().split()))\n",
    "    countApplesAndOranges(s, t, a, b, apple, orange)"
   ]
  },
  {
   "cell_type": "markdown",
   "metadata": {},
   "source": [
    "__Input (stdin)__"
   ]
  },
  {
   "cell_type": "raw",
   "metadata": {},
   "source": [
    "7 11\n",
    "5 15\n",
    "3 2\n",
    "-2 2 1\n",
    "5 -6"
   ]
  },
  {
   "cell_type": "markdown",
   "metadata": {},
   "source": [
    "__Your Output (stdout)__"
   ]
  },
  {
   "cell_type": "raw",
   "metadata": {},
   "source": [
    "1\n",
    "1"
   ]
  },
  {
   "cell_type": "code",
   "execution_count": null,
   "metadata": {},
   "outputs": [],
   "source": []
  }
 ],
 "metadata": {
  "kernelspec": {
   "display_name": "Python 3",
   "language": "python",
   "name": "python3"
  },
  "language_info": {
   "codemirror_mode": {
    "name": "ipython",
    "version": 3
   },
   "file_extension": ".py",
   "mimetype": "text/x-python",
   "name": "python",
   "nbconvert_exporter": "python",
   "pygments_lexer": "ipython3",
   "version": "3.6.4"
  }
 },
 "nbformat": 4,
 "nbformat_minor": 2
}
