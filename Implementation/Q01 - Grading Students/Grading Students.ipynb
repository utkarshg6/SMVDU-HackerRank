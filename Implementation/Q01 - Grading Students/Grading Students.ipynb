{
 "cells": [
  {
   "cell_type": "markdown",
   "metadata": {},
   "source": [
    "# Grading Student"
   ]
  },
  {
   "cell_type": "markdown",
   "metadata": {},
   "source": [
    "At HackerLand University, a passing grade is any grade 40 points or higher on a 100 point scale. Sam is a professor at the university and likes to round each student’s grade according to the following rules:\n",
    "\n",
    "-  If the difference between the grade and the next higher multiple of 5 is less than 3, round to the next higher multiple of 5\n",
    "-  If the grade is less than 38, don’t bother as it’s still a failing grade\n",
    "\n",
    "Automate the rounding process then round a list of grades and print the results."
   ]
  },
  {
   "cell_type": "markdown",
   "metadata": {},
   "source": [
    "__Input Format__\n",
    "\n",
    "__First Line__\n",
    "\n",
    "-  integer \n",
    "    - $n$ : number of students\n",
    "    - $1 <= n <= 60$\n",
    "    \n",
    "__Next *N* lines__\n",
    "\n",
    "-  integer \n",
    "    -  $grades_{i}$ : individual grades\n",
    "    -  $0 <= grades_{i} <= 100$\n",
    "    \n",
    "__Output Format__\n",
    "\n",
    "Print $n$ lines, each with the rounded value of a student’s grade in input order.\n"
   ]
  },
  {
   "cell_type": "markdown",
   "metadata": {},
   "source": [
    "__Sample Input 0__"
   ]
  },
  {
   "cell_type": "raw",
   "metadata": {},
   "source": [
    "4\n",
    "73\n",
    "67\n",
    "38\n",
    "33"
   ]
  },
  {
   "cell_type": "markdown",
   "metadata": {},
   "source": [
    "__Sample Output 0__"
   ]
  },
  {
   "cell_type": "raw",
   "metadata": {},
   "source": [
    "75\n",
    "67\n",
    "40\n",
    "33"
   ]
  },
  {
   "cell_type": "markdown",
   "metadata": {},
   "source": [
    "__Explanation 0__\n",
    "\n",
    "The first grade, $73$ is two below the next higher multiple of $5$, so it rounds to $75$. \n",
    "\n",
    "$67$ is $3$ points less than the next higher multiple of $5$ so it doesn’t round. \n",
    "\n",
    "$38$, like $73$, rounds up to next higher multiple of $5$, or $40$ in this case. \n",
    "\n",
    "$33$ is less than $38$, so it does not round."
   ]
  },
  {
   "cell_type": "markdown",
   "metadata": {},
   "source": [
    "## _Press __Shift + Enter__ to run this code._"
   ]
  },
  {
   "cell_type": "code",
   "execution_count": 10,
   "metadata": {
    "scrolled": true
   },
   "outputs": [
    {
     "name": "stdout",
     "output_type": "stream",
     "text": [
      "4\n",
      "73\n",
      "67\n",
      "38\n",
      "33\n",
      "75\n",
      "67\n",
      "40\n",
      "33\n"
     ]
    }
   ],
   "source": [
    "def solve(grades):\n",
    "    l = len(grades)\n",
    "    for i in range(l):\n",
    "        if grades[i] > 37:\n",
    "            j=0\n",
    "            while ( grades[i] > j ):      # Creates a roundoff value in variable j\n",
    "                j += 5\n",
    "            if( j - grades[i] < 3 ):      # If the value of round off and j have difference smaller than 3 then the difference \n",
    "                grades[i] = j             # will be transferred\n",
    "    return(grades)\n",
    "            \n",
    "    \n",
    "\n",
    "n = int(input().strip())\n",
    "grades = []\n",
    "grades_i = 0\n",
    "for grades_i in range(n):\n",
    "    grades_t = int(input().strip())\n",
    "    grades.append(grades_t)\n",
    "result = solve(grades)\n",
    "print (\"\\n\".join(map(str, result)))"
   ]
  },
  {
   "cell_type": "markdown",
   "metadata": {},
   "source": [
    "__Input (stdin)__"
   ]
  },
  {
   "cell_type": "raw",
   "metadata": {},
   "source": [
    "4\n",
    "73\n",
    "67\n",
    "38\n",
    "33"
   ]
  },
  {
   "cell_type": "markdown",
   "metadata": {},
   "source": [
    "__Your Output (stdout)__"
   ]
  },
  {
   "cell_type": "raw",
   "metadata": {},
   "source": [
    "75\n",
    "67\n",
    "40\n",
    "33"
   ]
  },
  {
   "cell_type": "code",
   "execution_count": null,
   "metadata": {},
   "outputs": [],
   "source": []
  }
 ],
 "metadata": {
  "kernelspec": {
   "display_name": "Python 3",
   "language": "python",
   "name": "python3"
  },
  "language_info": {
   "codemirror_mode": {
    "name": "ipython",
    "version": 3
   },
   "file_extension": ".py",
   "mimetype": "text/x-python",
   "name": "python",
   "nbconvert_exporter": "python",
   "pygments_lexer": "ipython3",
   "version": "3.6.4"
  }
 },
 "nbformat": 4,
 "nbformat_minor": 2
}
